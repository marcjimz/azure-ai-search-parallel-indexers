{
 "cells": [
  {
   "cell_type": "markdown",
   "metadata": {},
   "source": [
    "# Data\n",
    "\n",
    "This notebook is ingesting data into the storage container to be used for the indexers. We're using the OpenPaymentsData dataset which is available @ https://openpaymentsdata.cms.gov/. This data is made locally available as part of this example."
   ]
  },
  {
   "cell_type": "code",
   "execution_count": 1,
   "metadata": {},
   "outputs": [],
   "source": [
    "import os\n",
    "from src.config import PARTITIONS, PARTITIONED_INDEX_NAME, BASELINE_INDEX_NAME\n",
    "from src.data.ADLSGen2Loader import ADLSGen2Loader\n",
    "from src.constants import OPENPAYMENTSDATA_FIELD_MAPPINGS, OPENPAYMENTSDATA_FIELDS\n",
    "from src.data.DataSourceManagement import DataSourceManagement\n",
    "from src.indexers.IndexerManagement import IndexerManagement\n",
    "from src.indexes.IndexManagement import IndexManagement\n",
    "\n",
    "data_dir = \"data/openpaymentsdata\"\n",
    "data_dir = os.getcwd() + \"/data/openpaymentsdata\"\n",
    "loader = ADLSGen2Loader(data_dir)"
   ]
  },
  {
   "cell_type": "code",
   "execution_count": 8,
   "metadata": {},
   "outputs": [
    {
     "name": "stdout",
     "output_type": "stream",
     "text": [
      "Files uploaded successfully.\n"
     ]
    }
   ],
   "source": [
    "loader.upload_files()"
   ]
  },
  {
   "cell_type": "markdown",
   "metadata": {},
   "source": [
    "# Setup\n",
    "\n",
    "These cells should initialize the setup on behalf of the indexes, data source mappings, and indexers to be created and run."
   ]
  },
  {
   "cell_type": "code",
   "execution_count": 9,
   "metadata": {},
   "outputs": [
    {
     "name": "stdout",
     "output_type": "stream",
     "text": [
      "Index openpaymentsdata-baseline created successfully.\n",
      "Index openpaymentsdata-partitioned created successfully.\n",
      "Data source openpaymentsdata-partitioned-ds-1 created successfully.\n",
      "Indexer openpaymentsdata-partitioned-indexer-1 created successfully.\n",
      "Data source openpaymentsdata-partitioned-ds-2 created successfully.\n",
      "Indexer openpaymentsdata-partitioned-indexer-2 created successfully.\n",
      "Data source openpaymentsdata-partitioned-ds-3 created successfully.\n",
      "Indexer openpaymentsdata-partitioned-indexer-3 created successfully.\n",
      "Data source openpaymentsdata-partitioned-ds-4 created successfully.\n",
      "Indexer openpaymentsdata-partitioned-indexer-4 created successfully.\n",
      "Data source openpaymentsdata-partitioned-ds-5 created successfully.\n",
      "Indexer openpaymentsdata-partitioned-indexer-5 created successfully.\n",
      "Data source openpaymentsdata-partitioned-ds-6 created successfully.\n",
      "Indexer openpaymentsdata-partitioned-indexer-6 created successfully.\n",
      "Data source openpaymentsdata-partitioned-ds-7 created successfully.\n",
      "Indexer openpaymentsdata-partitioned-indexer-7 created successfully.\n",
      "Data source openpaymentsdata-partitioned-ds-8 created successfully.\n",
      "Indexer openpaymentsdata-partitioned-indexer-8 created successfully.\n",
      "Data source openpaymentsdata-partitioned-ds-9 created successfully.\n",
      "Indexer openpaymentsdata-partitioned-indexer-9 created successfully.\n",
      "Data source openpaymentsdata-baseline-ds created successfully.\n",
      "Indexer openpaymentsdata-baseline-indexer created successfully.\n"
     ]
    }
   ],
   "source": [
    "def create_resources():\n",
    "    index_manager = IndexManagement()\n",
    "    data_source_manager = DataSourceManagement()\n",
    "    indexer_manager = IndexerManagement()\n",
    "\n",
    "    index_manager.create_index(BASELINE_INDEX_NAME, OPENPAYMENTSDATA_FIELDS)  # this is the baseline source, to compare to.\n",
    "    index_manager.create_index(PARTITIONED_INDEX_NAME, OPENPAYMENTSDATA_FIELDS)\n",
    "\n",
    "    for i, partition in enumerate(PARTITIONS, start=1):\n",
    "        data_source_name = f\"{PARTITIONED_INDEX_NAME}-ds-{i}\"\n",
    "        indexer_name = f\"{PARTITIONED_INDEX_NAME}-indexer-{i}\"\n",
    "        data_source_manager.create_data_source(data_source_name, partition)\n",
    "        indexer_manager.create_indexer(indexer_name, data_source_name, OPENPAYMENTSDATA_FIELD_MAPPINGS)\n",
    "\n",
    "    # create a single index to compare to\n",
    "    baseline_data_source_name = f\"{BASELINE_INDEX_NAME}-ds\"\n",
    "    data_source_manager.create_data_source(baseline_data_source_name, None)\n",
    "    indexer_manager.create_indexer(f\"{BASELINE_INDEX_NAME}-indexer\", baseline_data_source_name, OPENPAYMENTSDATA_FIELD_MAPPINGS)\n",
    "\n",
    "create_resources()"
   ]
  },
  {
   "cell_type": "markdown",
   "metadata": {},
   "source": [
    "# Reset Indexes & Run Performance\n",
    "\n",
    "This step will reset the indexes in parallel to suggest the performance time it takes."
   ]
  },
  {
   "cell_type": "code",
   "execution_count": 21,
   "metadata": {},
   "outputs": [
    {
     "name": "stdout",
     "output_type": "stream",
     "text": [
      "Failed to reset indexer openpaymentsdata-partitioned-indexer-1: {\"error\":{\"code\":\"\",\"message\":\"Indexer 'openpaymentsdata-partitioned-indexer-1' was not found in service 'aisearch-zycz-premium'.\"}}\n",
      "Failed to run indexer openpaymentsdata-partitioned-indexer-1: {\"error\":{\"code\":\"\",\"message\":\"Indexer 'openpaymentsdata-partitioned-indexer-1' was not found in service 'aisearch-zycz-premium'.\"}}\n",
      "Failed to reset indexer openpaymentsdata-partitioned-indexer-2: {\"error\":{\"code\":\"\",\"message\":\"Indexer 'openpaymentsdata-partitioned-indexer-2' was not found in service 'aisearch-zycz-premium'.\"}}\n",
      "Failed to run indexer openpaymentsdata-partitioned-indexer-2: {\"error\":{\"code\":\"\",\"message\":\"Indexer 'openpaymentsdata-partitioned-indexer-2' was not found in service 'aisearch-zycz-premium'.\"}}\n",
      "Failed to reset indexer openpaymentsdata-partitioned-indexer-3: {\"error\":{\"code\":\"\",\"message\":\"Indexer 'openpaymentsdata-partitioned-indexer-3' was not found in service 'aisearch-zycz-premium'.\"}}\n",
      "Failed to run indexer openpaymentsdata-partitioned-indexer-3: {\"error\":{\"code\":\"\",\"message\":\"Indexer 'openpaymentsdata-partitioned-indexer-3' was not found in service 'aisearch-zycz-premium'.\"}}\n",
      "Failed to reset indexer openpaymentsdata-partitioned-indexer-4: {\"error\":{\"code\":\"\",\"message\":\"Indexer 'openpaymentsdata-partitioned-indexer-4' was not found in service 'aisearch-zycz-premium'.\"}}\n",
      "Failed to run indexer openpaymentsdata-partitioned-indexer-4: {\"error\":{\"code\":\"\",\"message\":\"Indexer 'openpaymentsdata-partitioned-indexer-4' was not found in service 'aisearch-zycz-premium'.\"}}\n",
      "Failed to reset indexer openpaymentsdata-partitioned-indexer-5: {\"error\":{\"code\":\"\",\"message\":\"Indexer 'openpaymentsdata-partitioned-indexer-5' was not found in service 'aisearch-zycz-premium'.\"}}\n",
      "Failed to run indexer openpaymentsdata-partitioned-indexer-5: {\"error\":{\"code\":\"\",\"message\":\"Indexer 'openpaymentsdata-partitioned-indexer-5' was not found in service 'aisearch-zycz-premium'.\"}}\n",
      "Failed to reset indexer openpaymentsdata-partitioned-indexer-6: {\"error\":{\"code\":\"\",\"message\":\"Indexer 'openpaymentsdata-partitioned-indexer-6' was not found in service 'aisearch-zycz-premium'.\"}}\n",
      "Failed to run indexer openpaymentsdata-partitioned-indexer-6: {\"error\":{\"code\":\"\",\"message\":\"Indexer 'openpaymentsdata-partitioned-indexer-6' was not found in service 'aisearch-zycz-premium'.\"}}\n",
      "Failed to reset indexer openpaymentsdata-partitioned-indexer-7: {\"error\":{\"code\":\"\",\"message\":\"Indexer 'openpaymentsdata-partitioned-indexer-7' was not found in service 'aisearch-zycz-premium'.\"}}\n",
      "Failed to run indexer openpaymentsdata-partitioned-indexer-7: {\"error\":{\"code\":\"\",\"message\":\"Indexer 'openpaymentsdata-partitioned-indexer-7' was not found in service 'aisearch-zycz-premium'.\"}}\n",
      "Failed to reset indexer openpaymentsdata-partitioned-indexer-8: {\"error\":{\"code\":\"\",\"message\":\"Indexer 'openpaymentsdata-partitioned-indexer-8' was not found in service 'aisearch-zycz-premium'.\"}}\n",
      "Failed to run indexer openpaymentsdata-partitioned-indexer-8: {\"error\":{\"code\":\"\",\"message\":\"Indexer 'openpaymentsdata-partitioned-indexer-8' was not found in service 'aisearch-zycz-premium'.\"}}\n",
      "Failed to reset indexer openpaymentsdata-partitioned-indexer-9: {\"error\":{\"code\":\"\",\"message\":\"Indexer 'openpaymentsdata-partitioned-indexer-9' was not found in service 'aisearch-zycz-premium'.\"}}\n",
      "Failed to run indexer openpaymentsdata-partitioned-indexer-9: {\"error\":{\"code\":\"\",\"message\":\"Indexer 'openpaymentsdata-partitioned-indexer-9' was not found in service 'aisearch-zycz-premium'.\"}}\n"
     ]
    }
   ],
   "source": [
    "def reset_indexers():\n",
    "    indexer_manager = IndexerManagement()\n",
    "\n",
    "    for i in range(1, len(PARTITIONS) + 1):\n",
    "        indexer_name = f\"{PARTITIONED_INDEX_NAME}-indexer-{i}\"\n",
    "        indexer_manager.reset_indexer(indexer_name)\n",
    "        indexer_manager.run_indexer(indexer_name)\n",
    "\n",
    "reset_indexers()"
   ]
  },
  {
   "cell_type": "markdown",
   "metadata": {},
   "source": [
    "If the below step fails, your Indexers might still be running. "
   ]
  },
  {
   "cell_type": "code",
   "execution_count": 6,
   "metadata": {},
   "outputs": [
    {
     "name": "stdout",
     "output_type": "stream",
     "text": [
      "Total time for all indexers to run: 0:08:39.818000\n",
      "Run time for indexer openpaymentsdata-baseline-indexer: 0:46:33.459000\n",
      "\n",
      "-- Performance Results --\n",
      "Partitioned index took 0:08:39.818000 seconds to run.\n",
      "Baseline index took 0:46:33.459000 seconds to run.\n",
      "Difference in execution, partitioned index took 0:37:53.641000 (HH:MM:ss) faster to run using parallel indexes.\n"
     ]
    }
   ],
   "source": [
    "# Calculate total run time\n",
    "def calculate_performance():\n",
    "    try:\n",
    "        indexer_manager = IndexerManagement()\n",
    "        partitioned_index_time = indexer_manager.calculate_total_run_time()\n",
    "        baseline_index_time = indexer_manager.get_indexer_run_time(f\"{BASELINE_INDEX_NAME}-indexer\")\n",
    "        \n",
    "        print()\n",
    "        print(\"-- Performance Results --\")\n",
    "        print(f\"Partitioned index took {partitioned_index_time} seconds to run.\")\n",
    "        print(f\"Baseline index took {baseline_index_time} seconds to run.\")\n",
    "        print(f\"Difference in execution, partitioned index took {baseline_index_time - partitioned_index_time} (HH:MM:ss) faster to run using parallel indexes.\")\n",
    "    except TypeError as e:\n",
    "        print(\"TypeError thrown, indexer jobs not complete: %s\", e)\n",
    "\n",
    "calculate_performance()"
   ]
  },
  {
   "cell_type": "markdown",
   "metadata": {},
   "source": [
    "# Cleanup\n",
    "\n",
    "Tasks to clean up information from AI Search, as required!"
   ]
  },
  {
   "cell_type": "code",
   "execution_count": 7,
   "metadata": {},
   "outputs": [
    {
     "name": "stdout",
     "output_type": "stream",
     "text": [
      "Index openpaymentsdata-partitioned deleted successfully.\n",
      "Data source openpaymentsdata-partitioned-ds-1 deleted successfully.\n",
      "Indexer openpaymentsdata-partitioned-indexer-1 deleted successfully.\n",
      "Data source openpaymentsdata-partitioned-ds-2 deleted successfully.\n",
      "Indexer openpaymentsdata-partitioned-indexer-2 deleted successfully.\n",
      "Data source openpaymentsdata-partitioned-ds-3 deleted successfully.\n",
      "Indexer openpaymentsdata-partitioned-indexer-3 deleted successfully.\n",
      "Data source openpaymentsdata-partitioned-ds-4 deleted successfully.\n",
      "Indexer openpaymentsdata-partitioned-indexer-4 deleted successfully.\n",
      "Data source openpaymentsdata-partitioned-ds-5 deleted successfully.\n",
      "Indexer openpaymentsdata-partitioned-indexer-5 deleted successfully.\n",
      "Data source openpaymentsdata-partitioned-ds-6 deleted successfully.\n",
      "Indexer openpaymentsdata-partitioned-indexer-6 deleted successfully.\n",
      "Data source openpaymentsdata-partitioned-ds-7 deleted successfully.\n",
      "Indexer openpaymentsdata-partitioned-indexer-7 deleted successfully.\n",
      "Data source openpaymentsdata-partitioned-ds-8 deleted successfully.\n",
      "Indexer openpaymentsdata-partitioned-indexer-8 deleted successfully.\n",
      "Data source openpaymentsdata-partitioned-ds-9 deleted successfully.\n",
      "Indexer openpaymentsdata-partitioned-indexer-9 deleted successfully.\n",
      "Data source openpaymentsdata-baseline-ds deleted successfully.\n",
      "Indexer openpaymentsdata-baseline-indexer deleted successfully.\n",
      "Deleted blob: partition0/OP_CVRD_RCPNT_PRFL_SPLMTL_P06282024_06122024_part1.csv\n",
      "Deleted blob: partition0/OP_CVRD_RCPNT_PRFL_SPLMTL_P06282024_06122024_part18.csv\n",
      "Deleted blob: partition0/OP_CVRD_RCPNT_PRFL_SPLMTL_P06282024_06122024_part26.csv\n",
      "Deleted blob: partition0/OP_CVRD_RCPNT_PRFL_SPLMTL_P06282024_06122024_part34.csv\n",
      "Deleted blob: partition0/OP_CVRD_RCPNT_PRFL_SPLMTL_P06282024_06122024_part7.csv\n",
      "Deleted partition folder: partition0/\n",
      "Deleted blob: partition1/OP_CVRD_RCPNT_PRFL_SPLMTL_P06282024_06122024_part10.csv\n",
      "Deleted blob: partition1/OP_CVRD_RCPNT_PRFL_SPLMTL_P06282024_06122024_part19.csv\n",
      "Deleted blob: partition1/OP_CVRD_RCPNT_PRFL_SPLMTL_P06282024_06122024_part27.csv\n",
      "Deleted blob: partition1/OP_CVRD_RCPNT_PRFL_SPLMTL_P06282024_06122024_part35.csv\n",
      "Deleted blob: partition1/OP_CVRD_RCPNT_PRFL_SPLMTL_P06282024_06122024_part8.csv\n",
      "Deleted partition folder: partition1/\n",
      "Deleted blob: partition2/OP_CVRD_RCPNT_PRFL_SPLMTL_P06282024_06122024_part11.csv\n",
      "Deleted blob: partition2/OP_CVRD_RCPNT_PRFL_SPLMTL_P06282024_06122024_part2.csv\n",
      "Deleted blob: partition2/OP_CVRD_RCPNT_PRFL_SPLMTL_P06282024_06122024_part28.csv\n",
      "Deleted blob: partition2/OP_CVRD_RCPNT_PRFL_SPLMTL_P06282024_06122024_part36.csv\n",
      "Deleted blob: partition2/OP_CVRD_RCPNT_PRFL_SPLMTL_P06282024_06122024_part9.csv\n",
      "Deleted partition folder: partition2/\n",
      "Deleted blob: partition3/OP_CVRD_RCPNT_PRFL_SPLMTL_P06282024_06122024_part12.csv\n",
      "Deleted blob: partition3/OP_CVRD_RCPNT_PRFL_SPLMTL_P06282024_06122024_part20.csv\n",
      "Deleted blob: partition3/OP_CVRD_RCPNT_PRFL_SPLMTL_P06282024_06122024_part29.csv\n",
      "Deleted blob: partition3/OP_CVRD_RCPNT_PRFL_SPLMTL_P06282024_06122024_part37.csv\n",
      "Deleted partition folder: partition3/\n",
      "Deleted blob: partition4/OP_CVRD_RCPNT_PRFL_SPLMTL_P06282024_06122024_part13.csv\n",
      "Deleted blob: partition4/OP_CVRD_RCPNT_PRFL_SPLMTL_P06282024_06122024_part21.csv\n",
      "Deleted blob: partition4/OP_CVRD_RCPNT_PRFL_SPLMTL_P06282024_06122024_part3.csv\n",
      "Deleted blob: partition4/OP_CVRD_RCPNT_PRFL_SPLMTL_P06282024_06122024_part38.csv\n",
      "Deleted partition folder: partition4/\n",
      "Deleted blob: partition5/OP_CVRD_RCPNT_PRFL_SPLMTL_P06282024_06122024_part14.csv\n",
      "Deleted blob: partition5/OP_CVRD_RCPNT_PRFL_SPLMTL_P06282024_06122024_part22.csv\n",
      "Deleted blob: partition5/OP_CVRD_RCPNT_PRFL_SPLMTL_P06282024_06122024_part30.csv\n",
      "Deleted blob: partition5/OP_CVRD_RCPNT_PRFL_SPLMTL_P06282024_06122024_part39.csv\n",
      "Deleted partition folder: partition5/\n",
      "Deleted blob: partition6/OP_CVRD_RCPNT_PRFL_SPLMTL_P06282024_06122024_part15.csv\n",
      "Deleted blob: partition6/OP_CVRD_RCPNT_PRFL_SPLMTL_P06282024_06122024_part23.csv\n",
      "Deleted blob: partition6/OP_CVRD_RCPNT_PRFL_SPLMTL_P06282024_06122024_part31.csv\n",
      "Deleted blob: partition6/OP_CVRD_RCPNT_PRFL_SPLMTL_P06282024_06122024_part4.csv\n",
      "Deleted partition folder: partition6/\n",
      "Deleted blob: partition7/OP_CVRD_RCPNT_PRFL_SPLMTL_P06282024_06122024_part16.csv\n",
      "Deleted blob: partition7/OP_CVRD_RCPNT_PRFL_SPLMTL_P06282024_06122024_part24.csv\n",
      "Deleted blob: partition7/OP_CVRD_RCPNT_PRFL_SPLMTL_P06282024_06122024_part32.csv\n",
      "Deleted blob: partition7/OP_CVRD_RCPNT_PRFL_SPLMTL_P06282024_06122024_part5.csv\n",
      "Deleted partition folder: partition7/\n",
      "Deleted blob: partition8/OP_CVRD_RCPNT_PRFL_SPLMTL_P06282024_06122024_part17.csv\n",
      "Deleted blob: partition8/OP_CVRD_RCPNT_PRFL_SPLMTL_P06282024_06122024_part25.csv\n",
      "Deleted blob: partition8/OP_CVRD_RCPNT_PRFL_SPLMTL_P06282024_06122024_part33.csv\n",
      "Deleted blob: partition8/OP_CVRD_RCPNT_PRFL_SPLMTL_P06282024_06122024_part6.csv\n",
      "Deleted partition folder: partition8/\n"
     ]
    }
   ],
   "source": [
    "def delete_resources(blob_delete=True):\n",
    "    index_manager = IndexManagement()\n",
    "    data_source_manager = DataSourceManagement()\n",
    "    indexer_manager = IndexerManagement()\n",
    "\n",
    "    index_manager.delete_index(PARTITIONED_INDEX_NAME)\n",
    "\n",
    "    for i in range(1, len(PARTITIONS) + 1):\n",
    "        data_source_name = f\"{PARTITIONED_INDEX_NAME}-ds-{i}\"\n",
    "        indexer_name = f\"{PARTITIONED_INDEX_NAME}-indexer-{i}\"\n",
    "        data_source_manager.delete_data_source(data_source_name)\n",
    "        indexer_manager.delete_indexer(indexer_name)\n",
    "\n",
    "    baseline_data_source_name = f\"{BASELINE_INDEX_NAME}-ds\"\n",
    "    data_source_manager.delete_data_source(baseline_data_source_name)\n",
    "    indexer_manager.delete_indexer(f\"{BASELINE_INDEX_NAME}-indexer\")\n",
    "\n",
    "    if blob_delete:\n",
    "        loader.delete_partition_folders()\n",
    "\n",
    "delete_resources()"
   ]
  }
 ],
 "metadata": {
  "kernelspec": {
   "display_name": "Python 3",
   "language": "python",
   "name": "python3"
  },
  "language_info": {
   "codemirror_mode": {
    "name": "ipython",
    "version": 3
   },
   "file_extension": ".py",
   "mimetype": "text/x-python",
   "name": "python",
   "nbconvert_exporter": "python",
   "pygments_lexer": "ipython3",
   "version": "3.10.14"
  }
 },
 "nbformat": 4,
 "nbformat_minor": 2
}
