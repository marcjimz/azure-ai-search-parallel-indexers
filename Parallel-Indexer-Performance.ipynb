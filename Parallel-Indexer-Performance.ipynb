{
 "cells": [
  {
   "cell_type": "markdown",
   "metadata": {},
   "source": [
    "# Data\n",
    "\n",
    "This notebook is ingesting data into the storage container to be used for the indexers. We're using the OpenPaymentsData dataset which is available @ https://openpaymentsdata.cms.gov/. This data is made locally available as part of this example."
   ]
  },
  {
   "cell_type": "code",
   "execution_count": 7,
   "metadata": {},
   "outputs": [],
   "source": [
    "import os\n",
    "from src.config import PARTITIONS, PARTITIONED_INDEX_NAME, BASELINE_INDEX_NAME\n",
    "from src.data.ADLSGen2Loader import ADLSGen2Loader\n",
    "from src.constants import OPENPAYMENTSDATA_FIELD_MAPPINGS, OPENPAYMENTSDATA_FIELDS\n",
    "from src.data.DataSourceManagement import DataSourceManagement\n",
    "from src.indexers.IndexerManagement import IndexerManagement\n",
    "from src.indexes.IndexManagement import IndexManagement\n",
    "\n",
    "data_dir = \"data/openpaymentsdata\""
   ]
  },
  {
   "cell_type": "code",
   "execution_count": 8,
   "metadata": {},
   "outputs": [
    {
     "name": "stdout",
     "output_type": "stream",
     "text": [
      "Files uploaded successfully.\n"
     ]
    }
   ],
   "source": [
    "data_dir = os.getcwd() + \"/data/openpaymentsdata\"\n",
    "loader = ADLSGen2Loader(data_dir)\n",
    "loader.upload_files()"
   ]
  },
  {
   "cell_type": "markdown",
   "metadata": {},
   "source": [
    "# Setup\n",
    "\n",
    "These cells should initialize the setup on behalf of the indexes, data source mappings, and indexers to be created and run."
   ]
  },
  {
   "cell_type": "code",
   "execution_count": 9,
   "metadata": {},
   "outputs": [
    {
     "name": "stdout",
     "output_type": "stream",
     "text": [
      "Index openpaymentsdata-baseline created successfully.\n",
      "Index openpaymentsdata-partitioned created successfully.\n",
      "Data source openpaymentsdata-partitioned-ds-1 created successfully.\n",
      "Indexer openpaymentsdata-partitioned-indexer-1 created successfully.\n",
      "Data source openpaymentsdata-partitioned-ds-2 created successfully.\n",
      "Indexer openpaymentsdata-partitioned-indexer-2 created successfully.\n",
      "Data source openpaymentsdata-partitioned-ds-3 created successfully.\n",
      "Indexer openpaymentsdata-partitioned-indexer-3 created successfully.\n",
      "Data source openpaymentsdata-partitioned-ds-4 created successfully.\n",
      "Indexer openpaymentsdata-partitioned-indexer-4 created successfully.\n",
      "Data source openpaymentsdata-partitioned-ds-5 created successfully.\n",
      "Indexer openpaymentsdata-partitioned-indexer-5 created successfully.\n",
      "Data source openpaymentsdata-partitioned-ds-6 created successfully.\n",
      "Indexer openpaymentsdata-partitioned-indexer-6 created successfully.\n",
      "Data source openpaymentsdata-partitioned-ds-7 created successfully.\n",
      "Indexer openpaymentsdata-partitioned-indexer-7 created successfully.\n",
      "Data source openpaymentsdata-partitioned-ds-8 created successfully.\n",
      "Indexer openpaymentsdata-partitioned-indexer-8 created successfully.\n",
      "Data source openpaymentsdata-partitioned-ds-9 created successfully.\n",
      "Indexer openpaymentsdata-partitioned-indexer-9 created successfully.\n",
      "Data source openpaymentsdata-baseline-ds created successfully.\n",
      "Indexer openpaymentsdata-baseline-indexer created successfully.\n"
     ]
    }
   ],
   "source": [
    "def create_resources():\n",
    "    index_manager = IndexManagement()\n",
    "    data_source_manager = DataSourceManagement()\n",
    "    indexer_manager = IndexerManagement()\n",
    "\n",
    "    index_manager.create_index(BASELINE_INDEX_NAME, OPENPAYMENTSDATA_FIELDS)  # this is the baseline source, to compare to.\n",
    "    index_manager.create_index(PARTITIONED_INDEX_NAME, OPENPAYMENTSDATA_FIELDS)\n",
    "\n",
    "    for i, partition in enumerate(PARTITIONS, start=1):\n",
    "        data_source_name = f\"{PARTITIONED_INDEX_NAME}-ds-{i}\"\n",
    "        indexer_name = f\"{PARTITIONED_INDEX_NAME}-indexer-{i}\"\n",
    "        data_source_manager.create_data_source(data_source_name, partition)\n",
    "        indexer_manager.create_indexer(indexer_name, data_source_name, OPENPAYMENTSDATA_FIELD_MAPPINGS)\n",
    "\n",
    "    # create a single index to compare to\n",
    "    baseline_data_source_name = f\"{BASELINE_INDEX_NAME}-ds\"\n",
    "    data_source_manager.create_data_source(baseline_data_source_name, None)\n",
    "    indexer_manager.create_indexer(f\"{BASELINE_INDEX_NAME}-indexer\", baseline_data_source_name, OPENPAYMENTSDATA_FIELD_MAPPINGS)\n",
    "\n",
    "create_resources()"
   ]
  },
  {
   "cell_type": "markdown",
   "metadata": {},
   "source": [
    "# Reset Indexes & Run Performance\n",
    "\n",
    "This step will reset the indexes in parallel to suggest the performance time it takes."
   ]
  },
  {
   "cell_type": "code",
   "execution_count": 21,
   "metadata": {},
   "outputs": [
    {
     "name": "stdout",
     "output_type": "stream",
     "text": [
      "Failed to reset indexer openpaymentsdata-partitioned-indexer-1: {\"error\":{\"code\":\"\",\"message\":\"Indexer 'openpaymentsdata-partitioned-indexer-1' was not found in service 'aisearch-zycz-premium'.\"}}\n",
      "Failed to run indexer openpaymentsdata-partitioned-indexer-1: {\"error\":{\"code\":\"\",\"message\":\"Indexer 'openpaymentsdata-partitioned-indexer-1' was not found in service 'aisearch-zycz-premium'.\"}}\n",
      "Failed to reset indexer openpaymentsdata-partitioned-indexer-2: {\"error\":{\"code\":\"\",\"message\":\"Indexer 'openpaymentsdata-partitioned-indexer-2' was not found in service 'aisearch-zycz-premium'.\"}}\n",
      "Failed to run indexer openpaymentsdata-partitioned-indexer-2: {\"error\":{\"code\":\"\",\"message\":\"Indexer 'openpaymentsdata-partitioned-indexer-2' was not found in service 'aisearch-zycz-premium'.\"}}\n",
      "Failed to reset indexer openpaymentsdata-partitioned-indexer-3: {\"error\":{\"code\":\"\",\"message\":\"Indexer 'openpaymentsdata-partitioned-indexer-3' was not found in service 'aisearch-zycz-premium'.\"}}\n",
      "Failed to run indexer openpaymentsdata-partitioned-indexer-3: {\"error\":{\"code\":\"\",\"message\":\"Indexer 'openpaymentsdata-partitioned-indexer-3' was not found in service 'aisearch-zycz-premium'.\"}}\n",
      "Failed to reset indexer openpaymentsdata-partitioned-indexer-4: {\"error\":{\"code\":\"\",\"message\":\"Indexer 'openpaymentsdata-partitioned-indexer-4' was not found in service 'aisearch-zycz-premium'.\"}}\n",
      "Failed to run indexer openpaymentsdata-partitioned-indexer-4: {\"error\":{\"code\":\"\",\"message\":\"Indexer 'openpaymentsdata-partitioned-indexer-4' was not found in service 'aisearch-zycz-premium'.\"}}\n",
      "Failed to reset indexer openpaymentsdata-partitioned-indexer-5: {\"error\":{\"code\":\"\",\"message\":\"Indexer 'openpaymentsdata-partitioned-indexer-5' was not found in service 'aisearch-zycz-premium'.\"}}\n",
      "Failed to run indexer openpaymentsdata-partitioned-indexer-5: {\"error\":{\"code\":\"\",\"message\":\"Indexer 'openpaymentsdata-partitioned-indexer-5' was not found in service 'aisearch-zycz-premium'.\"}}\n",
      "Failed to reset indexer openpaymentsdata-partitioned-indexer-6: {\"error\":{\"code\":\"\",\"message\":\"Indexer 'openpaymentsdata-partitioned-indexer-6' was not found in service 'aisearch-zycz-premium'.\"}}\n",
      "Failed to run indexer openpaymentsdata-partitioned-indexer-6: {\"error\":{\"code\":\"\",\"message\":\"Indexer 'openpaymentsdata-partitioned-indexer-6' was not found in service 'aisearch-zycz-premium'.\"}}\n",
      "Failed to reset indexer openpaymentsdata-partitioned-indexer-7: {\"error\":{\"code\":\"\",\"message\":\"Indexer 'openpaymentsdata-partitioned-indexer-7' was not found in service 'aisearch-zycz-premium'.\"}}\n",
      "Failed to run indexer openpaymentsdata-partitioned-indexer-7: {\"error\":{\"code\":\"\",\"message\":\"Indexer 'openpaymentsdata-partitioned-indexer-7' was not found in service 'aisearch-zycz-premium'.\"}}\n",
      "Failed to reset indexer openpaymentsdata-partitioned-indexer-8: {\"error\":{\"code\":\"\",\"message\":\"Indexer 'openpaymentsdata-partitioned-indexer-8' was not found in service 'aisearch-zycz-premium'.\"}}\n",
      "Failed to run indexer openpaymentsdata-partitioned-indexer-8: {\"error\":{\"code\":\"\",\"message\":\"Indexer 'openpaymentsdata-partitioned-indexer-8' was not found in service 'aisearch-zycz-premium'.\"}}\n",
      "Failed to reset indexer openpaymentsdata-partitioned-indexer-9: {\"error\":{\"code\":\"\",\"message\":\"Indexer 'openpaymentsdata-partitioned-indexer-9' was not found in service 'aisearch-zycz-premium'.\"}}\n",
      "Failed to run indexer openpaymentsdata-partitioned-indexer-9: {\"error\":{\"code\":\"\",\"message\":\"Indexer 'openpaymentsdata-partitioned-indexer-9' was not found in service 'aisearch-zycz-premium'.\"}}\n"
     ]
    }
   ],
   "source": [
    "def reset_indexers():\n",
    "    indexer_manager = IndexerManagement()\n",
    "\n",
    "    for i in range(1, len(PARTITIONS) + 1):\n",
    "        indexer_name = f\"{PARTITIONED_INDEX_NAME}-indexer-{i}\"\n",
    "        indexer_manager.reset_indexer(indexer_name)\n",
    "        indexer_manager.run_indexer(indexer_name)\n",
    "\n",
    "reset_indexers()"
   ]
  },
  {
   "cell_type": "markdown",
   "metadata": {},
   "source": [
    "If the below step fails, your Indexers might still be running. "
   ]
  },
  {
   "cell_type": "code",
   "execution_count": 18,
   "metadata": {},
   "outputs": [
    {
     "ename": "TypeError",
     "evalue": "strptime() argument 1 must be str, not None",
     "output_type": "error",
     "traceback": [
      "\u001b[0;31m---------------------------------------------------------------------------\u001b[0m",
      "\u001b[0;31mTypeError\u001b[0m                                 Traceback (most recent call last)",
      "Cell \u001b[0;32mIn[18], line 3\u001b[0m\n\u001b[1;32m      1\u001b[0m \u001b[38;5;66;03m# Calculate total run time\u001b[39;00m\n\u001b[1;32m      2\u001b[0m indexer_manager \u001b[38;5;241m=\u001b[39m IndexerManagement()\n\u001b[0;32m----> 3\u001b[0m \u001b[43mindexer_manager\u001b[49m\u001b[38;5;241;43m.\u001b[39;49m\u001b[43mcalculate_total_run_time\u001b[49m\u001b[43m(\u001b[49m\u001b[43m)\u001b[49m\n",
      "File \u001b[0;32m~/Documents/Development/azure-ai-search-parallel-indexers/src/indexers/IndexerManagement.py:74\u001b[0m, in \u001b[0;36mIndexerManagement.calculate_total_run_time\u001b[0;34m(self)\u001b[0m\n\u001b[1;32m     72\u001b[0m         \u001b[38;5;28;01mif\u001b[39;00m runs:\n\u001b[1;32m     73\u001b[0m             start_times\u001b[38;5;241m.\u001b[39mappend(datetime\u001b[38;5;241m.\u001b[39mstrptime(runs[\u001b[38;5;124m\"\u001b[39m\u001b[38;5;124mstartTime\u001b[39m\u001b[38;5;124m\"\u001b[39m], time_format))\n\u001b[0;32m---> 74\u001b[0m             end_times\u001b[38;5;241m.\u001b[39mappend(\u001b[43mdatetime\u001b[49m\u001b[38;5;241;43m.\u001b[39;49m\u001b[43mstrptime\u001b[49m\u001b[43m(\u001b[49m\u001b[43mruns\u001b[49m\u001b[43m[\u001b[49m\u001b[38;5;124;43m\"\u001b[39;49m\u001b[38;5;124;43mendTime\u001b[39;49m\u001b[38;5;124;43m\"\u001b[39;49m\u001b[43m]\u001b[49m\u001b[43m,\u001b[49m\u001b[43m \u001b[49m\u001b[43mtime_format\u001b[49m\u001b[43m)\u001b[49m)\n\u001b[1;32m     76\u001b[0m \u001b[38;5;28;01mif\u001b[39;00m start_times \u001b[38;5;129;01mand\u001b[39;00m end_times:\n\u001b[1;32m     77\u001b[0m     total_time \u001b[38;5;241m=\u001b[39m \u001b[38;5;28mmax\u001b[39m(end_times) \u001b[38;5;241m-\u001b[39m \u001b[38;5;28mmin\u001b[39m(start_times)\n",
      "\u001b[0;31mTypeError\u001b[0m: strptime() argument 1 must be str, not None"
     ]
    }
   ],
   "source": [
    "# Calculate total run time\n",
    "indexer_manager = IndexerManagement()\n",
    "partitioned_index_time = indexer_manager.calculate_total_run_time()\n",
    "baseline_index_time = indexer_manager.get_indexer_run_time(f\"{BASELINE_INDEX_NAME}-indexer\")\n",
    "\n",
    "print(f\"Partitioned index took {partitioned_index_time} seconds to run.\")\n",
    "print(f\"Baseline index took {baseline_index_time} seconds to run.\")\n",
    "print(f\"Difference in execution, partitioned index took {partitioned_index_time - baseline_index_time} seconds faster to run.\")"
   ]
  },
  {
   "cell_type": "markdown",
   "metadata": {},
   "source": [
    "# Cleanup\n",
    "\n",
    "Tasks to clean up information from AI Search, as required!"
   ]
  },
  {
   "cell_type": "code",
   "execution_count": 6,
   "metadata": {},
   "outputs": [
    {
     "name": "stdout",
     "output_type": "stream",
     "text": [
      "Failed to delete index openpaymentsdata-partitioned: {\"error\":{\"code\":\"OperationNotAllowed\",\"message\":\"No index with the name 'openpaymentsdata-partitioned' was found in a service named 'aisearch-zycz-premium'.\",\"details\":[{\"code\":\"IndexNotFoundInService\",\"message\":\"No index with the name 'openpaymentsdata-partitioned' was found in a service named 'aisearch-zycz-premium'.\"}]}}\n",
      "Failed to delete data source openpaymentsdata-partitioned-ds-1: {\"error\":{\"code\":\"\",\"message\":\"No datasource with the name 'openpaymentsdata-partitioned-ds-1' was found in a service named 'aisearch-zycz-premium'.\"}}\n",
      "Failed to delete indexer openpaymentsdata-partitioned-indexer-1: {\"error\":{\"code\":\"\",\"message\":\"Indexer 'openpaymentsdata-partitioned-indexer-1' was not found in service 'aisearch-zycz-premium'.\"}}\n",
      "Failed to delete data source openpaymentsdata-partitioned-ds-2: {\"error\":{\"code\":\"\",\"message\":\"No datasource with the name 'openpaymentsdata-partitioned-ds-2' was found in a service named 'aisearch-zycz-premium'.\"}}\n",
      "Failed to delete indexer openpaymentsdata-partitioned-indexer-2: {\"error\":{\"code\":\"\",\"message\":\"Indexer 'openpaymentsdata-partitioned-indexer-2' was not found in service 'aisearch-zycz-premium'.\"}}\n",
      "Failed to delete data source openpaymentsdata-partitioned-ds-3: {\"error\":{\"code\":\"\",\"message\":\"No datasource with the name 'openpaymentsdata-partitioned-ds-3' was found in a service named 'aisearch-zycz-premium'.\"}}\n",
      "Failed to delete indexer openpaymentsdata-partitioned-indexer-3: {\"error\":{\"code\":\"\",\"message\":\"Indexer 'openpaymentsdata-partitioned-indexer-3' was not found in service 'aisearch-zycz-premium'.\"}}\n",
      "Failed to delete data source openpaymentsdata-partitioned-ds-4: {\"error\":{\"code\":\"\",\"message\":\"No datasource with the name 'openpaymentsdata-partitioned-ds-4' was found in a service named 'aisearch-zycz-premium'.\"}}\n",
      "Failed to delete indexer openpaymentsdata-partitioned-indexer-4: {\"error\":{\"code\":\"\",\"message\":\"Indexer 'openpaymentsdata-partitioned-indexer-4' was not found in service 'aisearch-zycz-premium'.\"}}\n",
      "Failed to delete data source openpaymentsdata-partitioned-ds-5: {\"error\":{\"code\":\"\",\"message\":\"No datasource with the name 'openpaymentsdata-partitioned-ds-5' was found in a service named 'aisearch-zycz-premium'.\"}}\n",
      "Failed to delete indexer openpaymentsdata-partitioned-indexer-5: {\"error\":{\"code\":\"\",\"message\":\"Indexer 'openpaymentsdata-partitioned-indexer-5' was not found in service 'aisearch-zycz-premium'.\"}}\n",
      "Failed to delete data source openpaymentsdata-partitioned-ds-6: {\"error\":{\"code\":\"\",\"message\":\"No datasource with the name 'openpaymentsdata-partitioned-ds-6' was found in a service named 'aisearch-zycz-premium'.\"}}\n",
      "Failed to delete indexer openpaymentsdata-partitioned-indexer-6: {\"error\":{\"code\":\"\",\"message\":\"Indexer 'openpaymentsdata-partitioned-indexer-6' was not found in service 'aisearch-zycz-premium'.\"}}\n",
      "Failed to delete data source openpaymentsdata-partitioned-ds-7: {\"error\":{\"code\":\"\",\"message\":\"No datasource with the name 'openpaymentsdata-partitioned-ds-7' was found in a service named 'aisearch-zycz-premium'.\"}}\n",
      "Failed to delete indexer openpaymentsdata-partitioned-indexer-7: {\"error\":{\"code\":\"\",\"message\":\"Indexer 'openpaymentsdata-partitioned-indexer-7' was not found in service 'aisearch-zycz-premium'.\"}}\n",
      "Failed to delete data source openpaymentsdata-partitioned-ds-8: {\"error\":{\"code\":\"\",\"message\":\"No datasource with the name 'openpaymentsdata-partitioned-ds-8' was found in a service named 'aisearch-zycz-premium'.\"}}\n",
      "Failed to delete indexer openpaymentsdata-partitioned-indexer-8: {\"error\":{\"code\":\"\",\"message\":\"Indexer 'openpaymentsdata-partitioned-indexer-8' was not found in service 'aisearch-zycz-premium'.\"}}\n",
      "Failed to delete data source openpaymentsdata-partitioned-ds-9: {\"error\":{\"code\":\"\",\"message\":\"No datasource with the name 'openpaymentsdata-partitioned-ds-9' was found in a service named 'aisearch-zycz-premium'.\"}}\n",
      "Failed to delete indexer openpaymentsdata-partitioned-indexer-9: {\"error\":{\"code\":\"\",\"message\":\"Indexer 'openpaymentsdata-partitioned-indexer-9' was not found in service 'aisearch-zycz-premium'.\"}}\n",
      "Failed to delete data source openpaymentsdata-baseline-ds: {\"error\":{\"code\":\"\",\"message\":\"No datasource with the name 'openpaymentsdata-baseline-ds' was found in a service named 'aisearch-zycz-premium'.\"}}\n",
      "Failed to delete indexer openpaymentsdata-baseline-indexer: {\"error\":{\"code\":\"\",\"message\":\"Indexer 'openpaymentsdata-baseline-indexer' was not found in service 'aisearch-zycz-premium'.\"}}\n"
     ]
    },
    {
     "ename": "NameError",
     "evalue": "name 'loader' is not defined",
     "output_type": "error",
     "traceback": [
      "\u001b[0;31m---------------------------------------------------------------------------\u001b[0m",
      "\u001b[0;31mNameError\u001b[0m                                 Traceback (most recent call last)",
      "Cell \u001b[0;32mIn[6], line 20\u001b[0m\n\u001b[1;32m     16\u001b[0m     indexer_manager\u001b[38;5;241m.\u001b[39mdelete_indexer(\u001b[38;5;124mf\u001b[39m\u001b[38;5;124m\"\u001b[39m\u001b[38;5;132;01m{\u001b[39;00mBASELINE_INDEX_NAME\u001b[38;5;132;01m}\u001b[39;00m\u001b[38;5;124m-indexer\u001b[39m\u001b[38;5;124m\"\u001b[39m)\n\u001b[1;32m     18\u001b[0m     loader\u001b[38;5;241m.\u001b[39mdelete_partition_folders()\n\u001b[0;32m---> 20\u001b[0m \u001b[43mdelete_resources\u001b[49m\u001b[43m(\u001b[49m\u001b[43m)\u001b[49m\n",
      "Cell \u001b[0;32mIn[6], line 18\u001b[0m, in \u001b[0;36mdelete_resources\u001b[0;34m()\u001b[0m\n\u001b[1;32m     15\u001b[0m data_source_manager\u001b[38;5;241m.\u001b[39mdelete_data_source(baseline_data_source_name)\n\u001b[1;32m     16\u001b[0m indexer_manager\u001b[38;5;241m.\u001b[39mdelete_indexer(\u001b[38;5;124mf\u001b[39m\u001b[38;5;124m\"\u001b[39m\u001b[38;5;132;01m{\u001b[39;00mBASELINE_INDEX_NAME\u001b[38;5;132;01m}\u001b[39;00m\u001b[38;5;124m-indexer\u001b[39m\u001b[38;5;124m\"\u001b[39m)\n\u001b[0;32m---> 18\u001b[0m \u001b[43mloader\u001b[49m\u001b[38;5;241m.\u001b[39mdelete_partition_folders()\n",
      "\u001b[0;31mNameError\u001b[0m: name 'loader' is not defined"
     ]
    }
   ],
   "source": [
    "def delete_resources():\n",
    "    index_manager = IndexManagement()\n",
    "    data_source_manager = DataSourceManagement()\n",
    "    indexer_manager = IndexerManagement()\n",
    "\n",
    "    index_manager.delete_index(PARTITIONED_INDEX_NAME)\n",
    "\n",
    "    for i in range(1, len(PARTITIONS) + 1):\n",
    "        data_source_name = f\"{PARTITIONED_INDEX_NAME}-ds-{i}\"\n",
    "        indexer_name = f\"{PARTITIONED_INDEX_NAME}-indexer-{i}\"\n",
    "        data_source_manager.delete_data_source(data_source_name)\n",
    "        indexer_manager.delete_indexer(indexer_name)\n",
    "\n",
    "    baseline_data_source_name = f\"{BASELINE_INDEX_NAME}-ds\"\n",
    "    data_source_manager.delete_data_source(baseline_data_source_name)\n",
    "    indexer_manager.delete_indexer(f\"{BASELINE_INDEX_NAME}-indexer\")\n",
    "\n",
    "    loader.delete_partition_folders()\n",
    "\n",
    "delete_resources()"
   ]
  },
  {
   "cell_type": "code",
   "execution_count": null,
   "metadata": {},
   "outputs": [],
   "source": []
  }
 ],
 "metadata": {
  "kernelspec": {
   "display_name": "Python 3",
   "language": "python",
   "name": "python3"
  },
  "language_info": {
   "codemirror_mode": {
    "name": "ipython",
    "version": 3
   },
   "file_extension": ".py",
   "mimetype": "text/x-python",
   "name": "python",
   "nbconvert_exporter": "python",
   "pygments_lexer": "ipython3",
   "version": "3.10.14"
  }
 },
 "nbformat": 4,
 "nbformat_minor": 2
}
